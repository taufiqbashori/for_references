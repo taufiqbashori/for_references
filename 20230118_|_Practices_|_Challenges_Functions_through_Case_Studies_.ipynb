{
  "nbformat": 4,
  "nbformat_minor": 0,
  "metadata": {
    "colab": {
      "provenance": [],
      "authorship_tag": "ABX9TyOmGwasw+d1OpbFza/XT/us",
      "include_colab_link": true
    },
    "kernelspec": {
      "name": "python3",
      "display_name": "Python 3"
    },
    "language_info": {
      "name": "python"
    }
  },
  "cells": [
    {
      "cell_type": "markdown",
      "metadata": {
        "id": "view-in-github",
        "colab_type": "text"
      },
      "source": [
        "<a href=\"https://colab.research.google.com/github/taufiqbashori/for_references/blob/main/20230118_%7C_Practices_%7C_Challenges_Functions_through_Case_Studies_.ipynb\" target=\"_parent\"><img src=\"https://colab.research.google.com/assets/colab-badge.svg\" alt=\"Open In Colab\"/></a>"
      ]
    },
    {
      "cell_type": "markdown",
      "source": [
        "## All About Function in Python"
      ],
      "metadata": {
        "id": "ca6XLRschjJ0"
      }
    },
    {
      "cell_type": "markdown",
      "source": [
        "### Practice Session #1"
      ],
      "metadata": {
        "id": "EuQ3y2y-hqKP"
      }
    },
    {
      "cell_type": "markdown",
      "source": [
        "In this comprehensive case, let's assume you're working with a dataset of a restaurant's daily sales for various menu items. Your goal is to analyze the dataset, calculate revenues and profits, and generate insights.\n",
        "\n",
        "Dataset structure:"
      ],
      "metadata": {
        "id": "Oumc5jM7hTtb"
      }
    },
    {
      "cell_type": "code",
      "execution_count": null,
      "metadata": {
        "id": "myXYDCrVhDxx"
      },
      "outputs": [],
      "source": [
        "daily_sales = [\n",
        "    {\"date\": \"2023-01-01\", \"menu_items\": {\"Pizza\": 12, \"Burger\": 10, \"Pasta\": 5, \"Salad\": 8}},\n",
        "    {\"date\": \"2023-01-02\", \"menu_items\": {\"Pizza\": 15, \"Burger\": 6, \"Pasta\": 4, \"Salad\": 10}},\n",
        "    # ... (more daily data)\n",
        "]"
      ]
    },
    {
      "cell_type": "markdown",
      "source": [
        "Prices and costs:"
      ],
      "metadata": {
        "id": "l8MR_skShwo2"
      }
    },
    {
      "cell_type": "code",
      "source": [
        "menu_prices = {\"Pizza\": 12, \"Burger\": 8, \"Pasta\": 10, \"Salad\": 6}\n",
        "menu_costs = {\"Pizza\": 4, \"Burger\": 3, \"Pasta\": 5, \"Salad\": 2}"
      ],
      "metadata": {
        "id": "OH7LRklLh0Qt"
      },
      "execution_count": null,
      "outputs": []
    },
    {
      "cell_type": "markdown",
      "source": [
        "Challenge 1: Write a function named calculate_daily_revenue that takes daily_sales and menu_prices as input and returns a new list with daily revenue added to each day.\n",
        "\n",
        "Challenge 2: Write a function named calculate_daily_profit that takes the output from calculate_daily_revenue, along with menu_costs, as input and returns a new list with daily profit added to each day.\n",
        "\n",
        "Challenge 3: Write a function named find_best_selling_item that takes the output from calculate_daily_profit and returns the best-selling item overall (i.e., the item with the highest total revenue).\n",
        "\n",
        "Challenge 4: Write a function named find_most_profitable_item that takes the output from calculate_daily_profit and returns the most profitable item overall (i.e., the item with the highest total profit).\n",
        "\n",
        "Challenge 5: Write a function named calculate_monthly_summary that takes the output from calculate_daily_profit and returns a monthly summary containing total revenue, total profit, best-selling item, and most profitable item for each month.\n",
        "\n",
        "Bonus Challenge: Make your code more efficient by reusing intermediate calculations or results where possible, and avoid recalculating the same values multiple times.\n",
        "\n",
        "This comprehensive case should give you a good practice in refactoring code, working with more complex data structures, and optimizing code for efficiency. Good luck!"
      ],
      "metadata": {
        "id": "lcBi3WBQh2Yv"
      }
    },
    {
      "cell_type": "markdown",
      "source": [
        "Answer:"
      ],
      "metadata": {
        "id": "PDQfz1TKiCk4"
      }
    },
    {
      "cell_type": "code",
      "source": [
        "daily_sales = [\n",
        "    {\"date\": \"2023-01-01\", \"menu_items\": {\"Pizza\": 12, \"Burger\": 10, \"Pasta\": 5, \"Salad\": 8}},\n",
        "    {\"date\": \"2023-01-02\", \"menu_items\": {\"Pizza\": 15, \"Burger\": 6, \"Pasta\": 4, \"Salad\": 10}},\n",
        "    # ... (more daily data)\n",
        "]\n",
        "\n",
        "menu_prices = {\"Pizza\": 12, \"Burger\": 8, \"Pasta\": 10, \"Salad\": 6}\n",
        "menu_costs = {\"Pizza\": 4, \"Burger\": 3, \"Pasta\": 5, \"Salad\": 2}\n",
        "\n",
        "### Challenge 1: Write a function named calculate_daily_revenue that takes daily_sales and menu_prices as input \n",
        "### and returns a new list with daily revenue added to each day.\n",
        "\n",
        "def calculate_daily_revenue(daily_sales, menu_prices):\n",
        "    daily_sales_with_revenue = []\n",
        "\n",
        "    for day in daily_sales:\n",
        "        daily_revenue = sum([menu_prices[item] * quantity for item, quantity in day[\"menu_items\"].items()])\n",
        "        modified_day = day.copy()\n",
        "        modified_day[\"revenue\"] = daily_revenue\n",
        "        daily_sales_with_revenue.append(modified_day)\n",
        "\n",
        "    return daily_sales_with_revenue\n",
        "\n",
        "calculate_daily_revenue(daily_sales, menu_prices)"
      ],
      "metadata": {
        "colab": {
          "base_uri": "https://localhost:8080/"
        },
        "id": "3WTCoL9ZiGfX",
        "outputId": "f74e812d-c712-4303-e30d-27c16da33fad"
      },
      "execution_count": 24,
      "outputs": [
        {
          "output_type": "execute_result",
          "data": {
            "text/plain": [
              "[{'date': '2023-01-01',\n",
              "  'menu_items': {'Pizza': 12, 'Burger': 10, 'Pasta': 5, 'Salad': 8},\n",
              "  'revenue': 322},\n",
              " {'date': '2023-01-02',\n",
              "  'menu_items': {'Pizza': 15, 'Burger': 6, 'Pasta': 4, 'Salad': 10},\n",
              "  'revenue': 328}]"
            ]
          },
          "metadata": {},
          "execution_count": 24
        }
      ]
    },
    {
      "cell_type": "code",
      "source": [
        "print(daily_sales[0].keys())"
      ],
      "metadata": {
        "colab": {
          "base_uri": "https://localhost:8080/"
        },
        "id": "y68uRyJujw9p",
        "outputId": "54be044c-d569-466d-ba7c-6049ed623e20"
      },
      "execution_count": 21,
      "outputs": [
        {
          "output_type": "stream",
          "name": "stdout",
          "text": [
            "dict_keys(['date', 'menu_items'])\n"
          ]
        }
      ]
    }
  ]
}