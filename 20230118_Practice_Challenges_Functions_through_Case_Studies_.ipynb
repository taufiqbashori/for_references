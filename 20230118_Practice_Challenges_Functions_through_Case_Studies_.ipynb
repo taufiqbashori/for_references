{
  "nbformat": 4,
  "nbformat_minor": 0,
  "metadata": {
    "colab": {
      "provenance": [],
      "authorship_tag": "ABX9TyMp5Oehngh7CFq3ZL2p0qe+",
      "include_colab_link": true
    },
    "kernelspec": {
      "name": "python3",
      "display_name": "Python 3"
    },
    "language_info": {
      "name": "python"
    }
  },
  "cells": [
    {
      "cell_type": "markdown",
      "metadata": {
        "id": "view-in-github",
        "colab_type": "text"
      },
      "source": [
        "<a href=\"https://colab.research.google.com/github/taufiqbashori/for_references/blob/main/20230118_Practice_Challenges_Functions_through_Case_Studies_.ipynb\" target=\"_parent\"><img src=\"https://colab.research.google.com/assets/colab-badge.svg\" alt=\"Open In Colab\"/></a>"
      ]
    },
    {
      "cell_type": "markdown",
      "source": [
        "## All About Function in Python"
      ],
      "metadata": {
        "id": "ca6XLRschjJ0"
      }
    },
    {
      "cell_type": "markdown",
      "source": [
        "### Practice Session #1"
      ],
      "metadata": {
        "id": "EuQ3y2y-hqKP"
      }
    },
    {
      "cell_type": "markdown",
      "source": [
        "In this comprehensive case, let's assume you're working with a dataset of a restaurant's daily sales for various menu items. Your goal is to analyze the dataset, calculate revenues and profits, and generate insights.\n",
        "\n",
        "Dataset structure:"
      ],
      "metadata": {
        "id": "Oumc5jM7hTtb"
      }
    },
    {
      "cell_type": "code",
      "execution_count": 1,
      "metadata": {
        "id": "myXYDCrVhDxx"
      },
      "outputs": [],
      "source": [
        "daily_sales = [\n",
        "    {\"date\": \"2023-01-01\", \"menu_items\": {\"Pizza\": 12, \"Burger\": 10, \"Pasta\": 5, \"Salad\": 8}},\n",
        "    {\"date\": \"2023-01-02\", \"menu_items\": {\"Pizza\": 15, \"Burger\": 6, \"Pasta\": 4, \"Salad\": 10}},\n",
        "    # ... (more daily data)\n",
        "]"
      ]
    },
    {
      "cell_type": "markdown",
      "source": [
        "Prices and costs:"
      ],
      "metadata": {
        "id": "l8MR_skShwo2"
      }
    },
    {
      "cell_type": "code",
      "source": [
        "menu_prices = {\"Pizza\": 12, \"Burger\": 8, \"Pasta\": 10, \"Salad\": 6}\n",
        "menu_costs = {\"Pizza\": 4, \"Burger\": 3, \"Pasta\": 5, \"Salad\": 2}"
      ],
      "metadata": {
        "id": "OH7LRklLh0Qt"
      },
      "execution_count": 2,
      "outputs": []
    },
    {
      "cell_type": "markdown",
      "source": [
        "Challenge 1: Write a function named calculate_daily_revenue that takes daily_sales and menu_prices as input and returns a new list with daily revenue added to each day.\n",
        "\n",
        "Challenge 2: Write a function named calculate_daily_profit that takes the output from calculate_daily_revenue, along with menu_costs, as input and returns a new list with daily profit added to each day.\n",
        "\n",
        "Challenge 3: Write a function named find_best_selling_item that takes the output from calculate_daily_profit and returns the best-selling item overall (i.e., the item with the highest total revenue).\n",
        "\n",
        "Challenge 4: Write a function named find_most_profitable_item that takes the output from calculate_daily_profit and returns the most profitable item overall (i.e., the item with the highest total profit).\n",
        "\n",
        "Challenge 5: Write a function named calculate_monthly_summary that takes the output from calculate_daily_profit and returns a monthly summary containing total revenue, total profit, best-selling item, and most profitable item for each month.\n",
        "\n",
        "Bonus Challenge: Make your code more efficient by reusing intermediate calculations or results where possible, and avoid recalculating the same values multiple times.\n",
        "\n",
        "This comprehensive case should give you a good practice in refactoring code, working with more complex data structures, and optimizing code for efficiency. Good luck!"
      ],
      "metadata": {
        "id": "lcBi3WBQh2Yv"
      }
    },
    {
      "cell_type": "markdown",
      "source": [
        "Answer:"
      ],
      "metadata": {
        "id": "PDQfz1TKiCk4"
      }
    },
    {
      "cell_type": "code",
      "source": [
        "from collections import defaultdict\n",
        "daily_sales = [\n",
        "    {\"date\": \"2023-01-01\", \"menu_items\": {\"Pizza\": 12, \"Burger\": 10, \"Pasta\": 5, \"Salad\": 8}},\n",
        "    {\"date\": \"2023-01-02\", \"menu_items\": {\"Pizza\": 15, \"Burger\": 6, \"Pasta\": 4, \"Salad\": 10}},\n",
        "    # ... (more daily data)\n",
        "]\n",
        "\n",
        "menu_prices = {\"Pizza\": 12, \"Burger\": 8, \"Pasta\": 10, \"Salad\": 6}\n",
        "menu_costs = {\"Pizza\": 4, \"Burger\": 3, \"Pasta\": 5, \"Salad\": 2}\n",
        "\n",
        "### Challenge 1: Write a function named calculate_daily_revenue that takes daily_sales and menu_prices as input \n",
        "### and returns a new list with daily revenue added to each day.\n",
        "\n",
        "def calculate_daily_revenue(daily_sales, menu_prices):\n",
        "    daily_sales_with_revenue = []\n",
        "    for day in daily_sales:\n",
        "        #daily_revenue = sum([menu_prices[item] * quantity for item, quantity in day[\"menu_items\"].items()])\n",
        "        daily_revenue = sum([menu_prices[item] * day[\"menu_items\"][item] for item in day[\"menu_items\"].keys()])\n",
        "        modified_day = day.copy()\n",
        "        modified_day[\"revenue\"] = daily_revenue\n",
        "        daily_sales_with_revenue.append(modified_day)\n",
        "\n",
        "    return daily_sales_with_revenue\n",
        "\n",
        "### Challenge 2: Write a function named calculate_daily_profit that takes the output from calculate_daily_revenue, \n",
        "### along with menu_costs, as input and returns a new list with daily profit added to each day.\n",
        "\n",
        "def calculate_daily_profit(daily_sales, menu_prices, menu_costs):\n",
        "  daily_sales_profit = []\n",
        "  for day in calculate_daily_revenue(daily_sales, menu_prices):\n",
        "    daily_profit = day[\"revenue\"]-sum([menu_costs[menu] * quantity for menu, quantity in day[\"menu_items\"].items()])\n",
        "    #daily_profit = day[\"revenue\"]-sum([day[\"menu_items\"][menu]*menu_costs[menu] for menu in menu_costs.keys()])\n",
        "    modified_day_profit = day.copy()\n",
        "    modified_day_profit[\"profit\"] = daily_profit\n",
        "    daily_sales_profit.append(modified_day_profit)\n",
        "  return daily_sales_profit\n",
        "\n",
        "### Challenge 3: Write a function named find_best_selling_item that takes the output from calculate_daily_profit \n",
        "### and returns the best-selling item overall (i.e., the item with the highest total revenue).\n",
        "\n",
        "def find_best_selling_item(daily_sales, menu_prices, menu_costs):\n",
        "  total_qty_sold = {}\n",
        "  for day in calculate_daily_profit(daily_sales, menu_prices, menu_costs):\n",
        "    for item,qty in day[\"menu_items\"].items():\n",
        "      if item in total_qty_sold:\n",
        "        total_qty_sold[item] += qty\n",
        "      else:\n",
        "        total_qty_sold[item] = qty  \n",
        "  max_key = max(total_qty_sold, key=total_qty_sold.get)\n",
        "  return max_key\n",
        "\n",
        "find_best_selling_item(daily_sales, menu_prices, menu_costs)\n",
        "\n",
        "## Challenge 4: Write a function named find_most_profitable_item that takes the output from calculate_daily_profit \n",
        "## and returns the most profitable item overall (i.e., the item with the highest total profit).\n",
        "\n",
        "def most_profitable_item(daily_sales, menu_prices, menu_costs):\n",
        "  total_profit_each_menu = {}\n",
        "  total_qty_sold = {}\n",
        "  for day in calculate_daily_profit(daily_sales, menu_prices, menu_costs):\n",
        "    for item, qty in day[\"menu_items\"].items():      \n",
        "      if item in total_qty_sold:\n",
        "        total_qty_sold[item] += qty\n",
        "      else:\n",
        "        total_qty_sold[item] = qty\n",
        "    for item, qty in total_qty_sold.items():\n",
        "      total_profit_each_menu[item] = qty*menu_prices[item]-qty*menu_costs[item]\n",
        "  most_profitable = max(total_profit_each_menu, key=total_profit_each_menu.get)\n",
        "  return most_profitable\n",
        "\n",
        "## Challenge 5: Write a function named calculate_monthly_summary that takes the output from calculate_daily_profit \n",
        "## and returns a monthly summary containing total revenue, total profit, best-selling item, and most profitable item for each month.  \n",
        "def calculate_monthly_summary(daily_sales, menu_prices, menu_costs):\n",
        "    daily_sales_profit = calculate_daily_profit(daily_sales, menu_prices, menu_costs)\n",
        "    monthly_summary = []\n",
        "    \n",
        "    for day in daily_sales_profit:\n",
        "        daily_profit_per_item = {}\n",
        "\n",
        "        for item, qty in day[\"menu_items\"].items():\n",
        "            profit = qty * menu_prices[item] - qty * menu_costs[item]\n",
        "            \n",
        "            if item in daily_profit_per_item:\n",
        "                daily_profit_per_item[item] += profit\n",
        "            else:\n",
        "                daily_profit_per_item[item] = profit\n",
        "        \n",
        "        best_selling_item = max(day['menu_items'], key=day['menu_items'].get)\n",
        "        \n",
        "        monthly_summary.append({\n",
        "            'date': day['date'],\n",
        "            'revenue': day['revenue'],\n",
        "            'profit': day['profit'],\n",
        "            'best_selling_item': best_selling_item,\n",
        "            'profit_per_item': daily_profit_per_item\n",
        "        })\n",
        "    \n",
        "    return monthly_summary"
      ],
      "metadata": {
        "id": "3WTCoL9ZiGfX"
      },
      "execution_count": 73,
      "outputs": []
    },
    {
      "cell_type": "markdown",
      "source": [
        "### Practice Session #1"
      ],
      "metadata": {
        "id": "lUDFH-2S6n_R"
      }
    },
    {
      "cell_type": "markdown",
      "source": [
        "In this challenge, you'll work with a dataset of Pokémon and their attributes. Your task is to create a set of functions that allow you to perform various calculations and comparisons on the dataset.\n",
        "\n",
        "Here's a simplified dataset of Pokémon with their names, types, and base stats:\n",
        "\n",
        "```\n",
        "# python\n",
        "pokemon_data = [\n",
        "    {\"name\": \"Bulbasaur\", \"type\": \"Grass\", \"hp\": 45, \"attack\": 49, \"defense\": 49},\n",
        "    {\"name\": \"Charmander\", \"type\": \"Fire\", \"hp\": 39, \"attack\": 52, \"defense\": 43},\n",
        "    {\"name\": \"Squirtle\", \"type\": \"Water\", \"hp\": 44, \"attack\": 48, \"defense\": 65},\n",
        "    {\"name\": \"Pikachu\", \"type\": \"Electric\", \"hp\": 35, \"attack\": 55, \"defense\": 40},\n",
        "    {\"name\": \"Geodude\", \"type\": \"Rock\", \"hp\": 40, \"attack\": 80, \"defense\": 100},\n",
        "    {\"name\": \"Jigglypuff\", \"type\": \"Normal\", \"hp\": 115, \"attack\": 45, \"defense\": 20},\n",
        "]\n",
        "```\n",
        "\n",
        "Challenge 1:\n",
        "Write a function filter_by_type(pokemon_data, type) that takes the Pokémon dataset and a Pokémon type as input, and returns a list of Pokémon of the given type.\n",
        "\n",
        "Challenge 2:\n",
        "Write a function calculate_average_stat(pokemon_data, stat) that takes the Pokémon dataset and a stat (hp, attack, or defense) as input, and returns the average value of that stat across all Pokémon in the dataset.\n",
        "\n",
        "Challenge 3:\n",
        "Write a function find_strongest(pokemon_data, stat) that takes the Pokémon dataset and a stat (hp, attack, or defense) as input, and returns the Pokémon with the highest value of that stat.\n",
        "\n",
        "Challenge 4:\n",
        "Write a function find_weakest(pokemon_data, stat) that takes the Pokémon dataset and a stat (hp, attack, or defense) as input, and returns the Pokémon with the lowest value of that stat.\n",
        "\n",
        "Challenge 5:\n",
        "Create a function compare_pokemon(pokemon_data, pokemon1, pokemon2) that takes the Pokémon dataset and two Pokémon names as input, and returns a dictionary with the difference in each stat (hp, attack, and defense) between the two Pokémon.\n",
        "\n",
        "Bonus Challenge:\n",
        "Improve the efficiency of your code by reusing intermediate calculations or results where possible, and avoid recalculating the same values multiple times."
      ],
      "metadata": {
        "id": "lmSaWhGy6rfq"
      }
    },
    {
      "cell_type": "code",
      "source": [
        "pokemon_data = [\n",
        "    {\"name\": \"Bulbasaur\", \"type\": \"Grass\", \"hp\": 45, \"attack\": 49, \"defense\": 49},\n",
        "    {\"name\": \"Charmander\", \"type\": \"Fire\", \"hp\": 39, \"attack\": 52, \"defense\": 43},\n",
        "    {\"name\": \"Squirtle\", \"type\": \"Water\", \"hp\": 44, \"attack\": 48, \"defense\": 65},\n",
        "    {\"name\": \"Pikachu\", \"type\": \"Electric\", \"hp\": 35, \"attack\": 55, \"defense\": 40},\n",
        "    {\"name\": \"Geodude\", \"type\": \"Rock\", \"hp\": 40, \"attack\": 80, \"defense\": 100},\n",
        "    {\"name\": \"Jigglypuff\", \"type\": \"Normal\", \"hp\": 115, \"attack\": 45, \"defense\": 20},\n",
        "]\n",
        "\n",
        "## Challenge 1: Write a function filter_by_type(pokemon_data, type) that takes the Pokémon dataset and a Pokémon type as input, \n",
        "## and returns a list of Pokémon of the given type.\n",
        "\n",
        "def filter_by_type(pokemon_data, type):\n",
        "    filtered_pokemon = [pokemon for pokemon in pokemon_data if pokemon[\"type\"] == type]\n",
        "    return filtered_pokemon\n",
        "\n",
        "## Challenge 2: Write a function calculate_average_stat(pokemon_data, stat) that takes the Pokémon dataset and a stat (hp, attack, or defense) as input,\n",
        "## and returns the average value of that stat across all Pokémon in the dataset.\n",
        "\n",
        "def calculate_average_stat(pokemon_data, stat):\n",
        "    average_stat = sum(pokemon[stat] for pokemon in pokemon_data)/len(pokemon_data) \n",
        "    return average_stat\n",
        "\n",
        "## Challenge 3: Write a function find_strongest(pokemon_data, stat) that takes the Pokémon dataset and a stat (hp, attack, or defense) as input, and \n",
        "## returns the Pokémon with the highest value of that stat.\n",
        "\n",
        "def find_strongest(pokemon_data, stat):\n",
        "  for pokemon in pokemon_data:\n",
        "    strongest = max(pokemon[stat] for pokemon in pokemon_data)\n",
        "    strongest_name = pokemon_data[pokemon[stat]==strongest]['name']\n",
        "  return strongest_name, strongest\n",
        "\n",
        "# more effective version\n",
        "def find_strongest(pokemon_data, stat):\n",
        "    strongest_pokemon = max(pokemon_data, key=lambda pokemon: pokemon[stat])\n",
        "    return strongest_pokemon['name'], strongest_pokemon[stat]\n",
        "\n",
        "## Challenge 4: Write a function find_weakest(pokemon_data, stat) that takes the Pokémon dataset \n",
        "## and a stat (hp, attack, or defense) as input, and returns the Pokémon with the lowest value of that stat.  \n",
        "\n",
        "def find_weakest(pokemon_data, stat):\n",
        "  for pokemon in pokemon_data:\n",
        "    weakest = min(pokemon[stat] for pokemon in pokemon_data)\n",
        "    weakest_name = pokemon_data[pokemon[stat]==weakest]['name']\n",
        "  return weakest_name, weakest\n",
        "\n",
        "## more effective version\n",
        "def find_weakest(pokemon_data, stat):\n",
        "    weakest_pokemon = min(pokemon_data, key=lambda pokemon: pokemon[stat])\n",
        "    return weakest_pokemon['name'], weakest_pokemon[stat]\n",
        "find_weakest(pokemon_data, \"hp\")  \n",
        "\n",
        "## Challenge 5: Create a function compare_pokemon(pokemon_data, pokemon1, pokemon2) that takes the Pokémon dataset \n",
        "## and two Pokémon names as input, and returns a dictionary with the difference in each stat (hp, attack, and defense) \n",
        "## between the two Pokémon.\n",
        "\n",
        "def compare_pokemon(pokemon_data, pokemon1, pokemon2):\n",
        "  comparison_summary = []\n",
        "  for pokemon in pokemon_data:\n",
        "    if pokemon['name'] == pokemon1:\n",
        "      hp1, att1, def1 = pokemon['hp'], pokemon['attack'], pokemon ['defense']\n",
        "    elif pokemon['name'] == pokemon2: \n",
        "      hp2, att2, def2 = pokemon['hp'], pokemon['attack'], pokemon ['defense']\n",
        "    else:\n",
        "      None\n",
        "  hp_diff, att_diff, def_diff = hp1-hp2, att1-att2, def1-def2\n",
        "  comparison_summary.append({'pokemon 1: ': pokemon1,\n",
        "                             'pokemon 2: ': pokemon2,\n",
        "                             'hp diff. ': hp_diff,\n",
        "                             'attack diff. ': att_diff,\n",
        "                             'defense diff. ': def_diff\n",
        "                             })\n",
        "\n",
        "  return comparison_summary\n",
        "\n",
        "# more effective version\n",
        "\n",
        "def compare_pokemon(pokemon_data, pokemon1, pokemon2):\n",
        "    stats1 = stats2 = None\n",
        "\n",
        "    for pokemon in pokemon_data:\n",
        "        if pokemon['name'] == pokemon1:\n",
        "            stats1 = (pokemon['hp'], pokemon['attack'], pokemon['defense'])\n",
        "        elif pokemon['name'] == pokemon2:\n",
        "            stats2 = (pokemon['hp'], pokemon['attack'], pokemon['defense'])\n",
        "        if stats1 and stats2:\n",
        "            break\n",
        "\n",
        "    hp_diff, att_diff, def_diff = stats1[0] - stats2[0], stats1[1] - stats2[1], stats1[2] - stats2[2]\n",
        "\n",
        "    comparison_summary = {\n",
        "        'pokemon 1': pokemon1,\n",
        "        'pokemon 2': pokemon2,\n",
        "        'hp diff': hp_diff,\n",
        "        'attack diff': att_diff,\n",
        "        'defense diff': def_diff\n",
        "    }\n",
        "\n",
        "    return comparison_summary"
      ],
      "metadata": {
        "id": "s6ECldzL6rBW"
      },
      "execution_count": 2,
      "outputs": []
    },
    {
      "cell_type": "markdown",
      "source": [
        "### Practice Session 3"
      ],
      "metadata": {
        "id": "M4QnobB0fEFy"
      }
    },
    {
      "cell_type": "markdown",
      "source": [
        "Here are some new challenges that build upon the previous ones and introduce more complexity:\n",
        "\n",
        "Challenge 6: Find the top N Pokémon with the highest total stats\n",
        "\n",
        "Create a function find_top_n_total_stats(pokemon_data, n) that takes the Pokémon dataset and an integer n as input, and returns the top n Pokémon with the highest total stats (hp, attack, and defense combined).\n",
        "\n",
        "Challenge 7: Find the most versatile Pokémon\n",
        "\n",
        "Create a function find_most_versatile(pokemon_data) that takes the Pokémon dataset as input, and returns the Pokémon with the highest average stat value (the average of hp, attack, and defense).\n",
        "\n",
        "Challenge 8: Filter Pokémon by multiple types\n",
        "\n",
        "Create a function filter_by_multiple_types(pokemon_data, types) that takes the Pokémon dataset and a list of Pokémon types as input, and returns a list of Pokémon that match any of the given types.\n",
        "\n",
        "Challenge 9: Calculate the correlation between two stats\n",
        "\n",
        "Create a function calculate_stat_correlation(pokemon_data, stat1, stat2) that takes the Pokémon dataset and two stat names (hp, attack, or defense) as input, and returns the Pearson correlation coefficient between the two stats across all Pokémon in the dataset.\n",
        "\n",
        "Challenge 10: Create a Pokémon team\n",
        "\n",
        "Create a function create_pokemon_team(pokemon_data, n) that takes the Pokémon dataset and an integer n as input, and returns a list of n Pokémon that are selected based on the highest total stats (hp, attack, and defense combined), but with the constraint that the Pokémon must have different types. The team should consist of the highest total stat Pokémon of each unique type, up to n Pokémon.\n",
        "\n",
        "These challenges will require you to work with more advanced concepts such as sorting, filtering, and calculating correlations, while keeping the code efficient and well-structured."
      ],
      "metadata": {
        "id": "wL4bXHjMfB_I"
      }
    },
    {
      "cell_type": "code",
      "source": [
        "## Challenge 6: Find the top N Pokémon with the highest total stats\n",
        "## Create a function find_top_n_total_stats(pokemon_data, n) that takes the Pokémon dataset and an integer n as input, and \n",
        "## returns the top n Pokémon with the highest total stats (hp, attack, and defense combined).\n",
        "\n",
        "def find_top_n_total_stats(pokemon_data, n):\n",
        "  pokemon_total_stats = []\n",
        "  for pokemon in pokemon_data:\n",
        "    pokemon['total'] = pokemon['hp'] + pokemon['attack'] + pokemon['defense']\n",
        "    pokemon_total_stats.append(pokemon)\n",
        "  pokemon_total_stats = sorted(pokemon_total_stats, key=lambda x: x['total'], reverse=True)[:n]\n",
        "  return pokemon_total_stats\n",
        "\n",
        "# find_top_n_total_stats(pokemon_data, 2)    \n",
        "\n",
        "## Challenge 7: Find the most versatile Pokémon\n",
        "## Create a function find_most_versatile(pokemon_data) that takes the Pokémon dataset as input, and returns the Pokémon with \n",
        "## the highest average stat value (the average of hp, attack, and defense).\n",
        "\n",
        "def find_most_versatile(pokemon_data):\n",
        "    for pokemon in pokemon_data:\n",
        "        pokemon['avg_stats'] = (pokemon['hp'] + pokemon['attack'] + pokemon['defense']) / 3\n",
        "    most_versatile_pokemon = max(pokemon_data, key=lambda x: x['avg_stats'])\n",
        "    return most_versatile_pokemon\n",
        "\n",
        "# find_most_versatile(pokemon_data)\n",
        "\n",
        "## Challenge 8: Filter Pokémon by multiple types\n",
        "## Create a function filter_by_multiple_types(pokemon_data, types) that takes the Pokémon dataset and a list of Pokémon types as input, \n",
        "## and returns a list of Pokémon that match any of the given types.\n",
        "\n",
        "def filter_by_multiple_types(pokemon_data, types):\n",
        "  selected_pokemon = []\n",
        "  for pokemon in pokemon_data:\n",
        "    if pokemon[\"type\"] in types:\n",
        "      selected_pokemon.append(pokemon)\n",
        "  return selected_pokemon\n",
        "\n",
        "filter_by_multiple_types(pokemon_data, [\"Grass\", \"Fire\"])\n",
        "\n",
        "## Challenge 9: Calculate the correlation between two stats\n",
        "## Create a function calculate_stat_correlation(pokemon_data, stat1, stat2) that takes the Pokémon dataset \n",
        "## and two stat names (hp, attack, or defense) as input, and returns the Pearson correlation coefficient \n",
        "## between the two stats across all Pokémon in the dataset.\n",
        "from scipy.stats import pearsonr\n",
        "def calculate_stat_correlation(pokemon_data, stat1, stat2):\n",
        "    data1 = [pokemon[stat1] for pokemon in pokemon_data]\n",
        "    data2 = [pokemon[stat2] for pokemon in pokemon_data]\n",
        "    corr, _ = pearsonr(data1, data2)\n",
        "    return corr\n",
        "\n",
        "calculate_stat_correlation(pokemon_data, 'attack', 'defense')\n",
        "\n",
        "## Challenge 10: Create a Pokémon team\n",
        "\n",
        "## Create a function create_pokemon_team(pokemon_data, n) that takes the Pokémon dataset and an integer n as input, \n",
        "## and returns a list of n Pokémon that are selected based on the highest total stats (hp, attack, and defense combined), \n",
        "## but with the constraint that the Pokémon must have different types. The team should consist of the highest total stat \n",
        "## Pokémon of each unique type, up to n Pokémon.\n",
        "\n",
        "def create_pokemon_team(pokemon_data, n):\n",
        "    for pokemon in pokemon_data:\n",
        "        pokemon['total'] = pokemon['hp'] + pokemon['attack'] + pokemon['defense']\n",
        "        \n",
        "    top_pokemon = {ptype: max([p for p in pokemon_data if p['type'] == ptype], key=lambda x: x['total'])\n",
        "                   for ptype in set(p['type'] for p in pokemon_data)}\n",
        "\n",
        "    sorted_top_pokemon = sorted(top_pokemon.values(), key=lambda x: x['total'], reverse=True)[:n]\n",
        "\n",
        "    return sorted_top_pokemon\n",
        "\n",
        "create_pokemon_team(pokemon_data, 3)"
      ],
      "metadata": {
        "colab": {
          "base_uri": "https://localhost:8080/"
        },
        "id": "XkQ4nQbHFrGd",
        "outputId": "a44db86e-41ac-41bb-f442-3cf48a1ac605"
      },
      "execution_count": 24,
      "outputs": [
        {
          "output_type": "execute_result",
          "data": {
            "text/plain": [
              "[{'name': 'Geodude',\n",
              "  'type': 'Rock',\n",
              "  'hp': 40,\n",
              "  'attack': 80,\n",
              "  'defense': 100,\n",
              "  'total': 220},\n",
              " {'name': 'Jigglypuff',\n",
              "  'type': 'Normal',\n",
              "  'hp': 115,\n",
              "  'attack': 45,\n",
              "  'defense': 20,\n",
              "  'total': 180},\n",
              " {'name': 'Squirtle',\n",
              "  'type': 'Water',\n",
              "  'hp': 44,\n",
              "  'attack': 48,\n",
              "  'defense': 65,\n",
              "  'total': 157}]"
            ]
          },
          "metadata": {},
          "execution_count": 24
        }
      ]
    }
  ]
}