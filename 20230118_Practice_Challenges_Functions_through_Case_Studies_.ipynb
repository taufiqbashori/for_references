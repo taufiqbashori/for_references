{
  "nbformat": 4,
  "nbformat_minor": 0,
  "metadata": {
    "colab": {
      "provenance": [],
      "authorship_tag": "ABX9TyMLH7ELhn1woesQmH2OiC3s",
      "include_colab_link": true
    },
    "kernelspec": {
      "name": "python3",
      "display_name": "Python 3"
    },
    "language_info": {
      "name": "python"
    }
  },
  "cells": [
    {
      "cell_type": "markdown",
      "metadata": {
        "id": "view-in-github",
        "colab_type": "text"
      },
      "source": [
        "<a href=\"https://colab.research.google.com/github/taufiqbashori/for_references/blob/main/20230118_Practice_Challenges_Functions_through_Case_Studies_.ipynb\" target=\"_parent\"><img src=\"https://colab.research.google.com/assets/colab-badge.svg\" alt=\"Open In Colab\"/></a>"
      ]
    },
    {
      "cell_type": "markdown",
      "source": [
        "## All About Function in Python"
      ],
      "metadata": {
        "id": "ca6XLRschjJ0"
      }
    },
    {
      "cell_type": "markdown",
      "source": [
        "### Practice Session #1"
      ],
      "metadata": {
        "id": "EuQ3y2y-hqKP"
      }
    },
    {
      "cell_type": "markdown",
      "source": [
        "In this comprehensive case, let's assume you're working with a dataset of a restaurant's daily sales for various menu items. Your goal is to analyze the dataset, calculate revenues and profits, and generate insights.\n",
        "\n",
        "Dataset structure:"
      ],
      "metadata": {
        "id": "Oumc5jM7hTtb"
      }
    },
    {
      "cell_type": "code",
      "execution_count": 1,
      "metadata": {
        "id": "myXYDCrVhDxx"
      },
      "outputs": [],
      "source": [
        "daily_sales = [\n",
        "    {\"date\": \"2023-01-01\", \"menu_items\": {\"Pizza\": 12, \"Burger\": 10, \"Pasta\": 5, \"Salad\": 8}},\n",
        "    {\"date\": \"2023-01-02\", \"menu_items\": {\"Pizza\": 15, \"Burger\": 6, \"Pasta\": 4, \"Salad\": 10}},\n",
        "    # ... (more daily data)\n",
        "]"
      ]
    },
    {
      "cell_type": "markdown",
      "source": [
        "Prices and costs:"
      ],
      "metadata": {
        "id": "l8MR_skShwo2"
      }
    },
    {
      "cell_type": "code",
      "source": [
        "menu_prices = {\"Pizza\": 12, \"Burger\": 8, \"Pasta\": 10, \"Salad\": 6}\n",
        "menu_costs = {\"Pizza\": 4, \"Burger\": 3, \"Pasta\": 5, \"Salad\": 2}"
      ],
      "metadata": {
        "id": "OH7LRklLh0Qt"
      },
      "execution_count": 2,
      "outputs": []
    },
    {
      "cell_type": "markdown",
      "source": [
        "Challenge 1: Write a function named calculate_daily_revenue that takes daily_sales and menu_prices as input and returns a new list with daily revenue added to each day.\n",
        "\n",
        "Challenge 2: Write a function named calculate_daily_profit that takes the output from calculate_daily_revenue, along with menu_costs, as input and returns a new list with daily profit added to each day.\n",
        "\n",
        "Challenge 3: Write a function named find_best_selling_item that takes the output from calculate_daily_profit and returns the best-selling item overall (i.e., the item with the highest total revenue).\n",
        "\n",
        "Challenge 4: Write a function named find_most_profitable_item that takes the output from calculate_daily_profit and returns the most profitable item overall (i.e., the item with the highest total profit).\n",
        "\n",
        "Challenge 5: Write a function named calculate_monthly_summary that takes the output from calculate_daily_profit and returns a monthly summary containing total revenue, total profit, best-selling item, and most profitable item for each month.\n",
        "\n",
        "Bonus Challenge: Make your code more efficient by reusing intermediate calculations or results where possible, and avoid recalculating the same values multiple times.\n",
        "\n",
        "This comprehensive case should give you a good practice in refactoring code, working with more complex data structures, and optimizing code for efficiency. Good luck!"
      ],
      "metadata": {
        "id": "lcBi3WBQh2Yv"
      }
    },
    {
      "cell_type": "markdown",
      "source": [
        "Answer:"
      ],
      "metadata": {
        "id": "PDQfz1TKiCk4"
      }
    },
    {
      "cell_type": "code",
      "source": [
        "from collections import defaultdict\n",
        "daily_sales = [\n",
        "    {\"date\": \"2023-01-01\", \"menu_items\": {\"Pizza\": 12, \"Burger\": 10, \"Pasta\": 5, \"Salad\": 8}},\n",
        "    {\"date\": \"2023-01-02\", \"menu_items\": {\"Pizza\": 15, \"Burger\": 6, \"Pasta\": 4, \"Salad\": 10}},\n",
        "    # ... (more daily data)\n",
        "]\n",
        "\n",
        "menu_prices = {\"Pizza\": 12, \"Burger\": 8, \"Pasta\": 10, \"Salad\": 6}\n",
        "menu_costs = {\"Pizza\": 4, \"Burger\": 3, \"Pasta\": 5, \"Salad\": 2}\n",
        "\n",
        "### Challenge 1: Write a function named calculate_daily_revenue that takes daily_sales and menu_prices as input \n",
        "### and returns a new list with daily revenue added to each day.\n",
        "\n",
        "def calculate_daily_revenue(daily_sales, menu_prices):\n",
        "    daily_sales_with_revenue = []\n",
        "    for day in daily_sales:\n",
        "        #daily_revenue = sum([menu_prices[item] * quantity for item, quantity in day[\"menu_items\"].items()])\n",
        "        daily_revenue = sum([menu_prices[item] * day[\"menu_items\"][item] for item in day[\"menu_items\"].keys()])\n",
        "        modified_day = day.copy()\n",
        "        modified_day[\"revenue\"] = daily_revenue\n",
        "        daily_sales_with_revenue.append(modified_day)\n",
        "\n",
        "    return daily_sales_with_revenue\n",
        "\n",
        "### Challenge 2: Write a function named calculate_daily_profit that takes the output from calculate_daily_revenue, \n",
        "### along with menu_costs, as input and returns a new list with daily profit added to each day.\n",
        "\n",
        "def calculate_daily_profit(daily_sales, menu_prices, menu_costs):\n",
        "  daily_sales_profit = []\n",
        "  for day in calculate_daily_revenue(daily_sales, menu_prices):\n",
        "    daily_profit = day[\"revenue\"]-sum([menu_costs[menu] * quantity for menu, quantity in day[\"menu_items\"].items()])\n",
        "    #daily_profit = day[\"revenue\"]-sum([day[\"menu_items\"][menu]*menu_costs[menu] for menu in menu_costs.keys()])\n",
        "    modified_day_profit = day.copy()\n",
        "    modified_day_profit[\"profit\"] = daily_profit\n",
        "    daily_sales_profit.append(modified_day_profit)\n",
        "  return daily_sales_profit\n",
        "\n",
        "### Challenge 3: Write a function named find_best_selling_item that takes the output from calculate_daily_profit \n",
        "### and returns the best-selling item overall (i.e., the item with the highest total revenue).\n",
        "\n",
        "def find_best_selling_item(daily_sales, menu_prices, menu_costs):\n",
        "  total_qty_sold = {}\n",
        "  for day in calculate_daily_profit(daily_sales, menu_prices, menu_costs):\n",
        "    for item,qty in day[\"menu_items\"].items():\n",
        "      if item in total_qty_sold:\n",
        "        total_qty_sold[item] += qty\n",
        "      else:\n",
        "        total_qty_sold[item] = qty  \n",
        "  max_key = max(total_qty_sold, key=total_qty_sold.get)\n",
        "  return max_key\n",
        "\n",
        "find_best_selling_item(daily_sales, menu_prices, menu_costs)\n",
        "\n",
        "## Challenge 4: Write a function named find_most_profitable_item that takes the output from calculate_daily_profit \n",
        "## and returns the most profitable item overall (i.e., the item with the highest total profit).\n",
        "\n",
        "def most_profitable_item(daily_sales, menu_prices, menu_costs):\n",
        "  total_profit_each_menu = {}\n",
        "  total_qty_sold = {}\n",
        "  for day in calculate_daily_profit(daily_sales, menu_prices, menu_costs):\n",
        "    for item, qty in day[\"menu_items\"].items():      \n",
        "      if item in total_qty_sold:\n",
        "        total_qty_sold[item] += qty\n",
        "      else:\n",
        "        total_qty_sold[item] = qty\n",
        "    for item, qty in total_qty_sold.items():\n",
        "      total_profit_each_menu[item] = qty*menu_prices[item]-qty*menu_costs[item]\n",
        "  most_profitable = max(total_profit_each_menu, key=total_profit_each_menu.get)\n",
        "  return most_profitable\n",
        "\n",
        "## Challenge 5: Write a function named calculate_monthly_summary that takes the output from calculate_daily_profit \n",
        "## and returns a monthly summary containing total revenue, total profit, best-selling item, and most profitable item for each month.  \n",
        "def calculate_monthly_summary(daily_sales, menu_prices, menu_costs):\n",
        "    daily_sales_profit = calculate_daily_profit(daily_sales, menu_prices, menu_costs)\n",
        "    monthly_summary = []\n",
        "    \n",
        "    for day in daily_sales_profit:\n",
        "        daily_profit_per_item = {}\n",
        "\n",
        "        for item, qty in day[\"menu_items\"].items():\n",
        "            profit = qty * menu_prices[item] - qty * menu_costs[item]\n",
        "            \n",
        "            if item in daily_profit_per_item:\n",
        "                daily_profit_per_item[item] += profit\n",
        "            else:\n",
        "                daily_profit_per_item[item] = profit\n",
        "        \n",
        "        best_selling_item = max(day['menu_items'], key=day['menu_items'].get)\n",
        "        \n",
        "        monthly_summary.append({\n",
        "            'date': day['date'],\n",
        "            'revenue': day['revenue'],\n",
        "            'profit': day['profit'],\n",
        "            'best_selling_item': best_selling_item,\n",
        "            'profit_per_item': daily_profit_per_item\n",
        "        })\n",
        "    \n",
        "    return monthly_summary"
      ],
      "metadata": {
        "id": "3WTCoL9ZiGfX"
      },
      "execution_count": 73,
      "outputs": []
    }
  ]
}