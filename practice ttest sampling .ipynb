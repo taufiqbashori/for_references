{
 "cells": [
  {
   "attachments": {},
   "cell_type": "markdown",
   "metadata": {},
   "source": [
    "<h2 style=\"font-size:20px;\">Hypothesis Testing with Python</h2>"
   ]
  },
  {
   "attachments": {},
   "cell_type": "markdown",
   "metadata": {},
   "source": [
    "<h3 style=\"font-size:16px;\">Practice</h3>"
   ]
  },
  {
   "cell_type": "code",
   "execution_count": 10,
   "metadata": {},
   "outputs": [
    {
     "data": {
      "text/html": [
       "<div>\n",
       "<style scoped>\n",
       "    .dataframe tbody tr th:only-of-type {\n",
       "        vertical-align: middle;\n",
       "    }\n",
       "\n",
       "    .dataframe tbody tr th {\n",
       "        vertical-align: top;\n",
       "    }\n",
       "\n",
       "    .dataframe thead th {\n",
       "        text-align: right;\n",
       "    }\n",
       "</style>\n",
       "<table border=\"1\" class=\"dataframe\">\n",
       "  <thead>\n",
       "    <tr style=\"text-align: right;\">\n",
       "      <th></th>\n",
       "      <th>total_bill</th>\n",
       "      <th>tip</th>\n",
       "      <th>sex</th>\n",
       "      <th>smoker</th>\n",
       "      <th>day</th>\n",
       "      <th>time</th>\n",
       "      <th>size</th>\n",
       "    </tr>\n",
       "  </thead>\n",
       "  <tbody>\n",
       "    <tr>\n",
       "      <th>0</th>\n",
       "      <td>16.99</td>\n",
       "      <td>1.01</td>\n",
       "      <td>Female</td>\n",
       "      <td>No</td>\n",
       "      <td>Sun</td>\n",
       "      <td>Dinner</td>\n",
       "      <td>2</td>\n",
       "    </tr>\n",
       "    <tr>\n",
       "      <th>1</th>\n",
       "      <td>10.34</td>\n",
       "      <td>1.66</td>\n",
       "      <td>Male</td>\n",
       "      <td>No</td>\n",
       "      <td>Sun</td>\n",
       "      <td>Dinner</td>\n",
       "      <td>3</td>\n",
       "    </tr>\n",
       "    <tr>\n",
       "      <th>2</th>\n",
       "      <td>21.01</td>\n",
       "      <td>3.50</td>\n",
       "      <td>Male</td>\n",
       "      <td>No</td>\n",
       "      <td>Sun</td>\n",
       "      <td>Dinner</td>\n",
       "      <td>3</td>\n",
       "    </tr>\n",
       "  </tbody>\n",
       "</table>\n",
       "</div>"
      ],
      "text/plain": [
       "   total_bill   tip     sex smoker  day    time  size\n",
       "0       16.99  1.01  Female     No  Sun  Dinner     2\n",
       "1       10.34  1.66    Male     No  Sun  Dinner     3\n",
       "2       21.01  3.50    Male     No  Sun  Dinner     3"
      ]
     },
     "execution_count": 10,
     "metadata": {},
     "output_type": "execute_result"
    }
   ],
   "source": [
    "import seaborn as sns\n",
    "import pandas as pd\n",
    "from scipy import stats\n",
    "# Load the \"tips\" dataset from Seaborn\n",
    "df = pd.DataFrame(sns.load_dataset('tips'))\n",
    "df.head(3)"
   ]
  },
  {
   "cell_type": "code",
   "execution_count": 29,
   "metadata": {},
   "outputs": [
    {
     "name": "stdout",
     "output_type": "stream",
     "text": [
      "Male sample tips avg: 2.95 from 30 samples, female sample tips avg: 2.66 from 30 samples.\n",
      "t-test p-value result for means difference: 0.44, therefore not statistically significant.\n"
     ]
    }
   ],
   "source": [
    "def simulate_and_test(df, n=30):\n",
    "    # Simulate random sampling\n",
    "    male = df[df[\"sex\"] == \"Male\"]\n",
    "    male_sample = male.sample(n=n, replace=True, random_state=42)\n",
    "    female = df[df[\"sex\"] == \"Female\"]\n",
    "    female_sample = female.sample(n=n, replace=True, random_state=42)\n",
    "\n",
    "    # Compute sample means\n",
    "    male_mean = round(male_sample['tip'].mean(), 2)\n",
    "    female_mean = round(female_sample['tip'].mean(), 2)\n",
    "    \n",
    "    # Print sample means\n",
    "    print(f\"Male sample tips avg: {male_mean} from {n} samples, female sample tips avg: {female_mean} from {n} samples.\")\n",
    "    \n",
    "    # Conduct hypothesis test\n",
    "    t_stat, p_val = ttest_ind(a=male_sample['tip'], b=female_sample['tip'], equal_var=False)\n",
    "    \n",
    "    # Print test result\n",
    "    if p_val > 0.05:\n",
    "        print(f\"t-test p-value result for means difference: {round(p_val, 2)}, therefore not statistically significant.\")\n",
    "    else:\n",
    "        print(f\"t-test p-value result for means difference: {round(p_val, 2)}, therefore statistically significant.\")\n",
    "simulate_and_test(df)"
   ]
  }
 ],
 "metadata": {
  "kernelspec": {
   "display_name": "base",
   "language": "python",
   "name": "python3"
  },
  "language_info": {
   "codemirror_mode": {
    "name": "ipython",
    "version": 3
   },
   "file_extension": ".py",
   "mimetype": "text/x-python",
   "name": "python",
   "nbconvert_exporter": "python",
   "pygments_lexer": "ipython3",
   "version": "3.9.13"
  },
  "orig_nbformat": 4
 },
 "nbformat": 4,
 "nbformat_minor": 2
}
